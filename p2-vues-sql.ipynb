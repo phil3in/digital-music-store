{
 "cells": [
  {
   "cell_type": "markdown",
   "metadata": {},
   "source": [
    "# P2. Les vues SQL"
   ]
  },
  {
   "cell_type": "markdown",
   "metadata": {},
   "source": [
    "## Définition d'une vue SQL  \n",
    "\n",
    "Une vue n'est rien de plus qu'une instruction SQLite qui est stockée dans la base de données avec un nom associé. Il s'agit en fait d'une composition d'une table sous la forme d'une requête SQLite prédéfinie.\n",
    "\n",
    "Une vue peut contenir toutes les lignes d'une table ou des lignes sélectionnées d'une ou plusieurs tables. Une vue peut être créée à partir d'une ou plusieurs tables qui dépendent de la requête SQLite écrite pour créer une vue."
   ]
  },
  {
   "cell_type": "markdown",
   "metadata": {},
   "source": [
    "## Code utilitaire"
   ]
  },
  {
   "cell_type": "code",
   "execution_count": 1,
   "metadata": {},
   "outputs": [],
   "source": [
    "import os\n",
    "import sqlite3\n",
    "import pandas as pd   "
   ]
  },
  {
   "cell_type": "code",
   "execution_count": 2,
   "metadata": {},
   "outputs": [],
   "source": [
    "from pathlib import Path"
   ]
  },
  {
   "cell_type": "code",
   "execution_count": 3,
   "metadata": {},
   "outputs": [],
   "source": [
    "# Ouvre connection vers SQLite db\n",
    "chemin_bdd = Path('db') / 'chinook.db'\n",
    "conn = sqlite3.connect(chemin_bdd)"
   ]
  },
  {
   "cell_type": "code",
   "execution_count": 4,
   "metadata": {},
   "outputs": [],
   "source": [
    "# Fonction permettant d'exécuter un requête SQL sur une BDD définie par sa connexion conn\n",
    "def executer_requete(requete_sql, conn):\n",
    "    try:\n",
    "        cursor = conn.cursor()\n",
    "        cursor.execute(requete_sql)\n",
    "        conn.commit()\n",
    "    except sqlite3.Error as e:\n",
    "        print(\"Erreur lors de l'execution de la requête\")\n",
    "        print(e)\n",
    "        return\n",
    "    cursor.close()\n"
   ]
  },
  {
   "cell_type": "code",
   "execution_count": null,
   "metadata": {},
   "outputs": [],
   "source": []
  },
  {
   "cell_type": "markdown",
   "metadata": {},
   "source": [
    "## Example de vue SQL: v_albums"
   ]
  },
  {
   "cell_type": "markdown",
   "metadata": {},
   "source": [
    "La requête suivante permet d'obtenir une liste (simplifiée) des albums / artistes correspondants:  "
   ]
  },
  {
   "cell_type": "code",
   "execution_count": 5,
   "metadata": {},
   "outputs": [
    {
     "data": {
      "text/html": [
       "<div>\n",
       "<style scoped>\n",
       "    .dataframe tbody tr th:only-of-type {\n",
       "        vertical-align: middle;\n",
       "    }\n",
       "\n",
       "    .dataframe tbody tr th {\n",
       "        vertical-align: top;\n",
       "    }\n",
       "\n",
       "    .dataframe thead th {\n",
       "        text-align: right;\n",
       "    }\n",
       "</style>\n",
       "<table border=\"1\" class=\"dataframe\">\n",
       "  <thead>\n",
       "    <tr style=\"text-align: right;\">\n",
       "      <th></th>\n",
       "      <th>AlbumId</th>\n",
       "      <th>Title</th>\n",
       "      <th>Artist</th>\n",
       "    </tr>\n",
       "  </thead>\n",
       "  <tbody>\n",
       "    <tr>\n",
       "      <th>0</th>\n",
       "      <td>1</td>\n",
       "      <td>For Those About To Rock We Salute You</td>\n",
       "      <td>AC/DC</td>\n",
       "    </tr>\n",
       "    <tr>\n",
       "      <th>1</th>\n",
       "      <td>4</td>\n",
       "      <td>Let There Be Rock</td>\n",
       "      <td>AC/DC</td>\n",
       "    </tr>\n",
       "    <tr>\n",
       "      <th>2</th>\n",
       "      <td>296</td>\n",
       "      <td>A Copland Celebration, Vol. I</td>\n",
       "      <td>Aaron Copland &amp; London Symphony Orchestra</td>\n",
       "    </tr>\n",
       "    <tr>\n",
       "      <th>3</th>\n",
       "      <td>267</td>\n",
       "      <td>Worlds</td>\n",
       "      <td>Aaron Goldberg</td>\n",
       "    </tr>\n",
       "    <tr>\n",
       "      <th>4</th>\n",
       "      <td>280</td>\n",
       "      <td>The World of Classical Favourites</td>\n",
       "      <td>Academy of St. Martin in the Fields &amp; Sir Nevi...</td>\n",
       "    </tr>\n",
       "  </tbody>\n",
       "</table>\n",
       "</div>"
      ],
      "text/plain": [
       "   AlbumId                                  Title  \\\n",
       "0        1  For Those About To Rock We Salute You   \n",
       "1        4                      Let There Be Rock   \n",
       "2      296          A Copland Celebration, Vol. I   \n",
       "3      267                                 Worlds   \n",
       "4      280      The World of Classical Favourites   \n",
       "\n",
       "                                              Artist  \n",
       "0                                              AC/DC  \n",
       "1                                              AC/DC  \n",
       "2          Aaron Copland & London Symphony Orchestra  \n",
       "3                                     Aaron Goldberg  \n",
       "4  Academy of St. Martin in the Fields & Sir Nevi...  "
      ]
     },
     "execution_count": 5,
     "metadata": {},
     "output_type": "execute_result"
    }
   ],
   "source": [
    "# Requete sur les tables albums & artists\n",
    "requete = \"\"\"\n",
    "    SELECT AlbumId,\n",
    "           Title,\n",
    "           a.Name AS Artist\n",
    "    FROM albums\n",
    "    JOIN artists a on albums.ArtistId = a.ArtistId\n",
    "    ORDER BY Artist;\n",
    "\"\"\"\n",
    "\n",
    "albums = pd.read_sql_query(requete, conn)\n",
    "albums.head(5)"
   ]
  },
  {
   "cell_type": "markdown",
   "metadata": {},
   "source": [
    "Le code ci-dessous permet de créer une vue correspondant à la requête ci-dessous :    \n",
    "Référence vue sous SQLite : https://www.sqlite.org/lang_createview.html"
   ]
  },
  {
   "cell_type": "code",
   "execution_count": 6,
   "metadata": {},
   "outputs": [],
   "source": [
    "# creation vue albums avec artistes\n",
    "creation_vue_albums = \"\"\"\n",
    "    CREATE VIEW v_albums (\n",
    "        AlbumId,\n",
    "        Title,\n",
    "        Artist)\n",
    "    AS\n",
    "        SELECT AlbumId,\n",
    "               Title,\n",
    "               a.Name AS Artist\n",
    "        FROM albums\n",
    "        JOIN artists a on albums.ArtistId = a.ArtistId\n",
    "        ORDER BY Artist, Title;\n",
    "\"\"\"\n",
    "\n",
    "executer_requete(creation_vue_albums, conn)"
   ]
  },
  {
   "cell_type": "markdown",
   "metadata": {},
   "source": [
    "Une fois la vue créé, on peut la réutiliser dans des requêtes SQL comme une table:  "
   ]
  },
  {
   "cell_type": "code",
   "execution_count": 7,
   "metadata": {},
   "outputs": [
    {
     "data": {
      "text/html": [
       "<div>\n",
       "<style scoped>\n",
       "    .dataframe tbody tr th:only-of-type {\n",
       "        vertical-align: middle;\n",
       "    }\n",
       "\n",
       "    .dataframe tbody tr th {\n",
       "        vertical-align: top;\n",
       "    }\n",
       "\n",
       "    .dataframe thead th {\n",
       "        text-align: right;\n",
       "    }\n",
       "</style>\n",
       "<table border=\"1\" class=\"dataframe\">\n",
       "  <thead>\n",
       "    <tr style=\"text-align: right;\">\n",
       "      <th></th>\n",
       "      <th>AlbumId</th>\n",
       "      <th>Title</th>\n",
       "      <th>Artist</th>\n",
       "    </tr>\n",
       "  </thead>\n",
       "  <tbody>\n",
       "    <tr>\n",
       "      <th>0</th>\n",
       "      <td>1</td>\n",
       "      <td>For Those About To Rock We Salute You</td>\n",
       "      <td>AC/DC</td>\n",
       "    </tr>\n",
       "    <tr>\n",
       "      <th>1</th>\n",
       "      <td>4</td>\n",
       "      <td>Let There Be Rock</td>\n",
       "      <td>AC/DC</td>\n",
       "    </tr>\n",
       "    <tr>\n",
       "      <th>2</th>\n",
       "      <td>296</td>\n",
       "      <td>A Copland Celebration, Vol. I</td>\n",
       "      <td>Aaron Copland &amp; London Symphony Orchestra</td>\n",
       "    </tr>\n",
       "    <tr>\n",
       "      <th>3</th>\n",
       "      <td>267</td>\n",
       "      <td>Worlds</td>\n",
       "      <td>Aaron Goldberg</td>\n",
       "    </tr>\n",
       "    <tr>\n",
       "      <th>4</th>\n",
       "      <td>280</td>\n",
       "      <td>The World of Classical Favourites</td>\n",
       "      <td>Academy of St. Martin in the Fields &amp; Sir Nevi...</td>\n",
       "    </tr>\n",
       "  </tbody>\n",
       "</table>\n",
       "</div>"
      ],
      "text/plain": [
       "   AlbumId                                  Title  \\\n",
       "0        1  For Those About To Rock We Salute You   \n",
       "1        4                      Let There Be Rock   \n",
       "2      296          A Copland Celebration, Vol. I   \n",
       "3      267                                 Worlds   \n",
       "4      280      The World of Classical Favourites   \n",
       "\n",
       "                                              Artist  \n",
       "0                                              AC/DC  \n",
       "1                                              AC/DC  \n",
       "2          Aaron Copland & London Symphony Orchestra  \n",
       "3                                     Aaron Goldberg  \n",
       "4  Academy of St. Martin in the Fields & Sir Nevi...  "
      ]
     },
     "execution_count": 7,
     "metadata": {},
     "output_type": "execute_result"
    }
   ],
   "source": [
    "# Utilisation de la vue v_albums\n",
    "albums = pd.read_sql_query(\"SELECT * FROM v_albums LIMIT 10;\", conn)\n",
    "albums.head(5)"
   ]
  },
  {
   "cell_type": "code",
   "execution_count": 8,
   "metadata": {},
   "outputs": [
    {
     "data": {
      "text/html": [
       "<div>\n",
       "<style scoped>\n",
       "    .dataframe tbody tr th:only-of-type {\n",
       "        vertical-align: middle;\n",
       "    }\n",
       "\n",
       "    .dataframe tbody tr th {\n",
       "        vertical-align: top;\n",
       "    }\n",
       "\n",
       "    .dataframe thead th {\n",
       "        text-align: right;\n",
       "    }\n",
       "</style>\n",
       "<table border=\"1\" class=\"dataframe\">\n",
       "  <thead>\n",
       "    <tr style=\"text-align: right;\">\n",
       "      <th></th>\n",
       "      <th>AlbumId</th>\n",
       "      <th>Title</th>\n",
       "      <th>Artist</th>\n",
       "    </tr>\n",
       "  </thead>\n",
       "  <tbody>\n",
       "    <tr>\n",
       "      <th>0</th>\n",
       "      <td>232</td>\n",
       "      <td>Achtung Baby</td>\n",
       "      <td>U2</td>\n",
       "    </tr>\n",
       "    <tr>\n",
       "      <th>1</th>\n",
       "      <td>233</td>\n",
       "      <td>All That You Can't Leave Behind</td>\n",
       "      <td>U2</td>\n",
       "    </tr>\n",
       "    <tr>\n",
       "      <th>2</th>\n",
       "      <td>234</td>\n",
       "      <td>B-Sides 1980-1990</td>\n",
       "      <td>U2</td>\n",
       "    </tr>\n",
       "    <tr>\n",
       "      <th>3</th>\n",
       "      <td>235</td>\n",
       "      <td>How To Dismantle An Atomic Bomb</td>\n",
       "      <td>U2</td>\n",
       "    </tr>\n",
       "    <tr>\n",
       "      <th>4</th>\n",
       "      <td>255</td>\n",
       "      <td>Instant Karma: The Amnesty International Campa...</td>\n",
       "      <td>U2</td>\n",
       "    </tr>\n",
       "    <tr>\n",
       "      <th>5</th>\n",
       "      <td>236</td>\n",
       "      <td>Pop</td>\n",
       "      <td>U2</td>\n",
       "    </tr>\n",
       "    <tr>\n",
       "      <th>6</th>\n",
       "      <td>237</td>\n",
       "      <td>Rattle And Hum</td>\n",
       "      <td>U2</td>\n",
       "    </tr>\n",
       "    <tr>\n",
       "      <th>7</th>\n",
       "      <td>238</td>\n",
       "      <td>The Best Of 1980-1990</td>\n",
       "      <td>U2</td>\n",
       "    </tr>\n",
       "    <tr>\n",
       "      <th>8</th>\n",
       "      <td>239</td>\n",
       "      <td>War</td>\n",
       "      <td>U2</td>\n",
       "    </tr>\n",
       "    <tr>\n",
       "      <th>9</th>\n",
       "      <td>240</td>\n",
       "      <td>Zooropa</td>\n",
       "      <td>U2</td>\n",
       "    </tr>\n",
       "  </tbody>\n",
       "</table>\n",
       "</div>"
      ],
      "text/plain": [
       "   AlbumId                                              Title Artist\n",
       "0      232                                       Achtung Baby     U2\n",
       "1      233                    All That You Can't Leave Behind     U2\n",
       "2      234                                  B-Sides 1980-1990     U2\n",
       "3      235                    How To Dismantle An Atomic Bomb     U2\n",
       "4      255  Instant Karma: The Amnesty International Campa...     U2\n",
       "5      236                                                Pop     U2\n",
       "6      237                                     Rattle And Hum     U2\n",
       "7      238                              The Best Of 1980-1990     U2\n",
       "8      239                                                War     U2\n",
       "9      240                                            Zooropa     U2"
      ]
     },
     "execution_count": 8,
     "metadata": {},
     "output_type": "execute_result"
    }
   ],
   "source": [
    "# Utilisation de la vue v_albums avec une clause WHERE\n",
    "albums = pd.read_sql_query(\"SELECT * FROM v_albums WHERE Artist = 'U2';\", conn)\n",
    "albums"
   ]
  },
  {
   "cell_type": "code",
   "execution_count": 9,
   "metadata": {},
   "outputs": [
    {
     "data": {
      "text/html": [
       "<div>\n",
       "<style scoped>\n",
       "    .dataframe tbody tr th:only-of-type {\n",
       "        vertical-align: middle;\n",
       "    }\n",
       "\n",
       "    .dataframe tbody tr th {\n",
       "        vertical-align: top;\n",
       "    }\n",
       "\n",
       "    .dataframe thead th {\n",
       "        text-align: right;\n",
       "    }\n",
       "</style>\n",
       "<table border=\"1\" class=\"dataframe\">\n",
       "  <thead>\n",
       "    <tr style=\"text-align: right;\">\n",
       "      <th></th>\n",
       "      <th>AlbumId</th>\n",
       "      <th>Title</th>\n",
       "      <th>Artist</th>\n",
       "      <th>Tracks</th>\n",
       "    </tr>\n",
       "  </thead>\n",
       "  <tbody>\n",
       "    <tr>\n",
       "      <th>0</th>\n",
       "      <td>1</td>\n",
       "      <td>For Those About To Rock We Salute You</td>\n",
       "      <td>AC/DC</td>\n",
       "      <td>10</td>\n",
       "    </tr>\n",
       "    <tr>\n",
       "      <th>1</th>\n",
       "      <td>4</td>\n",
       "      <td>Let There Be Rock</td>\n",
       "      <td>AC/DC</td>\n",
       "      <td>8</td>\n",
       "    </tr>\n",
       "    <tr>\n",
       "      <th>2</th>\n",
       "      <td>296</td>\n",
       "      <td>A Copland Celebration, Vol. I</td>\n",
       "      <td>Aaron Copland &amp; London Symphony Orchestra</td>\n",
       "      <td>1</td>\n",
       "    </tr>\n",
       "    <tr>\n",
       "      <th>3</th>\n",
       "      <td>267</td>\n",
       "      <td>Worlds</td>\n",
       "      <td>Aaron Goldberg</td>\n",
       "      <td>1</td>\n",
       "    </tr>\n",
       "    <tr>\n",
       "      <th>4</th>\n",
       "      <td>280</td>\n",
       "      <td>The World of Classical Favourites</td>\n",
       "      <td>Academy of St. Martin in the Fields &amp; Sir Nevi...</td>\n",
       "      <td>2</td>\n",
       "    </tr>\n",
       "  </tbody>\n",
       "</table>\n",
       "</div>"
      ],
      "text/plain": [
       "   AlbumId                                  Title  \\\n",
       "0        1  For Those About To Rock We Salute You   \n",
       "1        4                      Let There Be Rock   \n",
       "2      296          A Copland Celebration, Vol. I   \n",
       "3      267                                 Worlds   \n",
       "4      280      The World of Classical Favourites   \n",
       "\n",
       "                                              Artist  Tracks  \n",
       "0                                              AC/DC      10  \n",
       "1                                              AC/DC       8  \n",
       "2          Aaron Copland & London Symphony Orchestra       1  \n",
       "3                                     Aaron Goldberg       1  \n",
       "4  Academy of St. Martin in the Fields & Sir Nevi...       2  "
      ]
     },
     "execution_count": 9,
     "metadata": {},
     "output_type": "execute_result"
    }
   ],
   "source": [
    "# Utilisation de la vue v_albums avec une autre jointure\n",
    "requete = \"\"\"\n",
    "    SELECT a.AlbumId,\n",
    "           a.Title,\n",
    "           a.Artist,\n",
    "           count(t.TrackId) as Tracks\n",
    "    FROM v_albums a\n",
    "    JOIN tracks t ON a.AlbumId = t.AlbumId\n",
    "    GROUP BY 1, 2, 3\n",
    "    ORDER BY 3, 2;\n",
    "\"\"\"\n",
    "albums = pd.read_sql_query(requete, conn)\n",
    "albums.head()"
   ]
  },
  {
   "cell_type": "code",
   "execution_count": 10,
   "metadata": {},
   "outputs": [],
   "source": [
    "# Effacer une vue\n",
    "executer_requete(\"DROP VIEW IF EXISTS v_albums;\", conn)"
   ]
  },
  {
   "cell_type": "markdown",
   "metadata": {},
   "source": [
    "### Question: Avantages & Inconvénients des vues SQL"
   ]
  },
  {
   "cell_type": "markdown",
   "metadata": {},
   "source": [
    "Quelles sont les avantages et inconvénients des vues SQL ?  \n",
    "*A compléter*"
   ]
  },
  {
   "cell_type": "markdown",
   "metadata": {},
   "source": [
    "---"
   ]
  },
  {
   "cell_type": "markdown",
   "metadata": {},
   "source": [
    "## Exercices de création / mise en oeuvre de vues"
   ]
  },
  {
   "cell_type": "markdown",
   "metadata": {},
   "source": [
    "### Vue 1: caractéristiques complètes des Albums  \n",
    "A partir de l'exemple de vue ci-dessus, créer et exploiter une nouvelle vue v_albums reprenant pour chaque album:  \n",
    "- AlbumId\n",
    "- Title\n",
    "- Artist\n",
    "- nb de pistes\n",
    "- Durée totale de l'album (en minutes)\n",
    "- Prix de l'album"
   ]
  },
  {
   "cell_type": "code",
   "execution_count": null,
   "metadata": {},
   "outputs": [],
   "source": []
  },
  {
   "cell_type": "code",
   "execution_count": null,
   "metadata": {},
   "outputs": [],
   "source": []
  },
  {
   "cell_type": "code",
   "execution_count": null,
   "metadata": {},
   "outputs": [],
   "source": []
  },
  {
   "cell_type": "markdown",
   "metadata": {},
   "source": [
    "### Vue 2: caractéristiques détaillées des pistes\n",
    "Créer et exploiter une nouvelle vue v_tracks reprenant pour chaque piste:  \n",
    "- TrackId\n",
    "- Name\n",
    "- Genre\n",
    "- Album\n",
    "- Artist\n",
    "- Composer\n",
    "- Temps (en seconde)\n",
    "- MediaType"
   ]
  },
  {
   "cell_type": "code",
   "execution_count": null,
   "metadata": {},
   "outputs": [],
   "source": []
  },
  {
   "cell_type": "code",
   "execution_count": null,
   "metadata": {},
   "outputs": [],
   "source": []
  },
  {
   "cell_type": "code",
   "execution_count": null,
   "metadata": {},
   "outputs": [],
   "source": []
  },
  {
   "cell_type": "markdown",
   "metadata": {},
   "source": [
    "### Vue 3: Vue augmentée invoices\n",
    "A. Créer une nouvelle vue v_invoices à partir de la table invoices ajoutant 3 nouveaux attributs basés sur l'attribut `InvoiceDate`:  \n",
    "- semaine de la transaction\n",
    "- mois de la transaction\n",
    "- année de la transaction"
   ]
  },
  {
   "cell_type": "code",
   "execution_count": null,
   "metadata": {},
   "outputs": [],
   "source": []
  },
  {
   "cell_type": "code",
   "execution_count": null,
   "metadata": {},
   "outputs": [],
   "source": []
  },
  {
   "cell_type": "code",
   "execution_count": null,
   "metadata": {},
   "outputs": [],
   "source": []
  },
  {
   "cell_type": "markdown",
   "metadata": {},
   "source": [
    "B. Exploiter la vue v_invoices ainsi crée pour déterminer les ventes annuelles par pays."
   ]
  },
  {
   "cell_type": "code",
   "execution_count": null,
   "metadata": {},
   "outputs": [],
   "source": []
  },
  {
   "cell_type": "markdown",
   "metadata": {},
   "source": [
    "### Vue 4: A vous de jouer\n",
    "Créer et exploiter une nouvelle vue de votre choix  "
   ]
  },
  {
   "cell_type": "code",
   "execution_count": null,
   "metadata": {},
   "outputs": [],
   "source": []
  },
  {
   "cell_type": "code",
   "execution_count": null,
   "metadata": {},
   "outputs": [],
   "source": []
  },
  {
   "cell_type": "code",
   "execution_count": null,
   "metadata": {},
   "outputs": [],
   "source": []
  },
  {
   "cell_type": "code",
   "execution_count": null,
   "metadata": {},
   "outputs": [],
   "source": []
  }
 ],
 "metadata": {
  "kernelspec": {
   "display_name": "Python 3",
   "language": "python",
   "name": "python3"
  },
  "language_info": {
   "codemirror_mode": {
    "name": "ipython",
    "version": 3
   },
   "file_extension": ".py",
   "mimetype": "text/x-python",
   "name": "python",
   "nbconvert_exporter": "python",
   "pygments_lexer": "ipython3",
   "version": "3.8.7"
  }
 },
 "nbformat": 4,
 "nbformat_minor": 4
}
